{
 "cells": [
  {
   "cell_type": "code",
   "execution_count": 8,
   "id": "755261a3",
   "metadata": {
    "collapsed": true
   },
   "outputs": [
    {
     "name": "stdout",
     "output_type": "stream",
     "text": [
      "Collecting selenium\n",
      "  Downloading selenium-4.27.1-py3-none-any.whl (9.7 MB)\n",
      "\u001b[K     |████████████████████████████████| 9.7 MB 10.0 MB/s eta 0:00:01\n",
      "\u001b[?25hCollecting urllib3[socks]<3,>=1.26\n",
      "  Downloading urllib3-2.2.3-py3-none-any.whl (126 kB)\n",
      "\u001b[K     |████████████████████████████████| 126 kB 25.3 MB/s eta 0:00:01\n",
      "\u001b[?25hCollecting trio-websocket~=0.9\n",
      "  Downloading trio_websocket-0.11.1-py3-none-any.whl (17 kB)\n",
      "Collecting typing_extensions~=4.9\n",
      "  Downloading typing_extensions-4.12.2-py3-none-any.whl (37 kB)\n",
      "Collecting websocket-client~=1.8\n",
      "  Downloading websocket_client-1.8.0-py3-none-any.whl (58 kB)\n",
      "\u001b[K     |████████████████████████████████| 58 kB 11.6 MB/s eta 0:00:011\n",
      "\u001b[?25hCollecting trio~=0.17\n",
      "  Downloading trio-0.27.0-py3-none-any.whl (481 kB)\n",
      "\u001b[K     |████████████████████████████████| 481 kB 114.3 MB/s eta 0:00:01\n",
      "\u001b[?25hCollecting certifi>=2021.10.8\n",
      "  Downloading certifi-2024.8.30-py3-none-any.whl (167 kB)\n",
      "\u001b[K     |████████████████████████████████| 167 kB 36.5 MB/s eta 0:00:01\n",
      "\u001b[?25hCollecting pysocks!=1.5.7,<2.0,>=1.5.6; extra == \"socks\"\n",
      "  Downloading PySocks-1.7.1-py3-none-any.whl (16 kB)\n",
      "Collecting exceptiongroup; python_version < \"3.11\"\n",
      "  Downloading exceptiongroup-1.2.2-py3-none-any.whl (16 kB)\n",
      "Collecting wsproto>=0.14\n",
      "  Downloading wsproto-1.2.0-py3-none-any.whl (24 kB)\n",
      "Collecting outcome\n",
      "  Downloading outcome-1.3.0.post0-py2.py3-none-any.whl (10 kB)\n",
      "Collecting attrs>=23.2.0\n",
      "  Downloading attrs-24.2.0-py3-none-any.whl (63 kB)\n",
      "\u001b[K     |████████████████████████████████| 63 kB 2.8 MB/s  eta 0:00:011\n",
      "\u001b[?25hRequirement already satisfied: idna in /usr/lib/python3/dist-packages (from trio~=0.17->selenium) (2.8)\n",
      "Collecting sniffio>=1.3.0\n",
      "  Downloading sniffio-1.3.1-py3-none-any.whl (10 kB)\n",
      "Collecting sortedcontainers\n",
      "  Downloading sortedcontainers-2.4.0-py2.py3-none-any.whl (29 kB)\n",
      "Collecting h11<1,>=0.9.0\n",
      "  Downloading h11-0.14.0-py3-none-any.whl (58 kB)\n",
      "\u001b[K     |████████████████████████████████| 58 kB 7.2 MB/s  eta 0:00:01\n",
      "\u001b[?25hInstalling collected packages: pysocks, urllib3, exceptiongroup, h11, wsproto, attrs, outcome, sniffio, sortedcontainers, trio, trio-websocket, typing-extensions, websocket-client, certifi, selenium\n",
      "\u001b[33m  WARNING: The script wsdump is installed in '/home/u4028/.local/bin' which is not on PATH.\n",
      "  Consider adding this directory to PATH or, if you prefer to suppress this warning, use --no-warn-script-location.\u001b[0m\n",
      "Successfully installed attrs-24.2.0 certifi-2024.8.30 exceptiongroup-1.2.2 h11-0.14.0 outcome-1.3.0.post0 pysocks-1.7.1 selenium-4.27.1 sniffio-1.3.1 sortedcontainers-2.4.0 trio-0.27.0 trio-websocket-0.11.1 typing-extensions-4.12.2 urllib3-2.2.3 websocket-client-1.8.0 wsproto-1.2.0\n",
      "Note: you may need to restart the kernel to use updated packages.\n"
     ]
    }
   ],
   "source": [
    "pip install selenium"
   ]
  },
  {
   "cell_type": "code",
   "execution_count": 13,
   "id": "2168de0f",
   "metadata": {},
   "outputs": [],
   "source": [
    "from selenium import webdriver\n",
    "from bs4 import BeautifulSoup\n",
    "import csv\n",
    "import time"
   ]
  },
  {
   "cell_type": "code",
   "execution_count": 14,
   "id": "10fe15a1",
   "metadata": {},
   "outputs": [],
   "source": [
    "# Selenium 설정\n",
    "options = webdriver.ChromeOptions()\n",
    "options.add_argument('--headless')  # 브라우저 창 숨김\n",
    "driver = webdriver.Chrome(options=options)"
   ]
  },
  {
   "cell_type": "code",
   "execution_count": 15,
   "id": "53ef4381",
   "metadata": {},
   "outputs": [],
   "source": [
    "# 결과 저장 리스트\n",
    "words_definitions = []\n",
    "\n",
    "# 페이지 순회\n",
    "start_page = 2\n",
    "end_page = 121\n",
    "base_url = \"https://pheo.co.kr/?mid=pheodic&page=\"\n",
    "\n",
    "for page in range(start_page, end_page + 1):\n",
    "    url = f\"{base_url}{page}\"\n",
    "    driver.get(url)\n",
    "    time.sleep(2)  # 페이지 로딩 대기\n",
    "\n",
    "    soup = BeautifulSoup(driver.page_source, 'html.parser')\n",
    "    rows = soup.find_all('tr', class_=['bg1', 'bg2'])\n",
    "\n",
    "    for row in rows:\n",
    "        # 단어 추출\n",
    "        title_tag = row.find('p', class_='title')\n",
    "        word = title_tag.a.text.strip() if title_tag and title_tag.a else None\n",
    "\n",
    "        # 정의 추출\n",
    "        summary_tag = row.find('p', class_='summary')\n",
    "        definition = summary_tag.a.text.strip() if summary_tag and summary_tag.a else None\n",
    "\n",
    "        if word and definition:\n",
    "            words_definitions.append((word, definition))\n",
    "\n",
    "# 드라이버 종료\n",
    "driver.quit()"
   ]
  },
  {
   "cell_type": "code",
   "execution_count": 16,
   "id": "973ce06e",
   "metadata": {
    "scrolled": false
   },
   "outputs": [],
   "source": [
    "# 결과 저장\n",
    "output_file = \"words_definitions_dynamic.csv\"\n",
    "with open(output_file, mode='w', encoding='utf-8', newline='') as file:\n",
    "    writer = csv.writer(file)\n",
    "    writer.writerow([\"Word\", \"Definition\"])\n",
    "    writer.writerows(words_definitions)"
   ]
  }
 ],
 "metadata": {
  "kernelspec": {
   "display_name": "Python 3 (ipykernel)",
   "language": "python",
   "name": "python3"
  },
  "language_info": {
   "codemirror_mode": {
    "name": "ipython",
    "version": 3
   },
   "file_extension": ".py",
   "mimetype": "text/x-python",
   "name": "python",
   "nbconvert_exporter": "python",
   "pygments_lexer": "ipython3",
   "version": "3.8.10"
  }
 },
 "nbformat": 4,
 "nbformat_minor": 5
}
